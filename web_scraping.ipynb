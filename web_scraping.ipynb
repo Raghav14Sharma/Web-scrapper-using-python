{
 "cells": [
  {
   "cell_type": "code",
   "execution_count": 1,
   "metadata": {},
   "outputs": [],
   "source": [
    "# Import Libraries\n",
    "from bs4 import BeautifulSoup\n",
    "import csv\n",
    "from msedge.selenium_tools import Edge, EdgeOptions \n",
    "import time\n",
    "import pandas as pd"
   ]
  },
  {
   "cell_type": "code",
   "execution_count": 2,
   "metadata": {},
   "outputs": [],
   "source": [
    "# Installing the driver\n",
    "options = EdgeOptions()\n",
    "options.use_chromium = True\n",
    "driver =  Edge(options = options)"
   ]
  },
  {
   "cell_type": "code",
   "execution_count": 3,
   "metadata": {},
   "outputs": [],
   "source": [
    "# Accessing the URL\n",
    "url = \"https://www.amazon.in/dp/B071J3YJ73\"\n",
    "driver.get(url)"
   ]
  },
  {
   "cell_type": "code",
   "execution_count": 4,
   "metadata": {},
   "outputs": [],
   "source": [
    "# Creating a soup\n",
    "soup = BeautifulSoup(driver.page_source, 'html.parser')"
   ]
  },
  {
   "cell_type": "code",
   "execution_count": 5,
   "metadata": {},
   "outputs": [],
   "source": [
    "title = soup.find(id = 'productTitle').get_text()\n",
    "price = soup.find(id = 'priceblock_dealprice').get_text()\n",
    "ratings = soup.find( id = 'acrCustomerReviewText' ).get_text()\n",
    "stars = soup.find('span' , { 'data-hook':'rating-out-of-text'}).get_text()\n",
    "date = time.ctime()\n"
   ]
  },
  {
   "cell_type": "code",
   "execution_count": 6,
   "metadata": {},
   "outputs": [],
   "source": [
    "title = title.strip()\n",
    "price = price.strip()[1:]\n",
    "ratings = ratings.strip()\n",
    "stars = stars.strip()\n",
    "\n",
    "\n"
   ]
  },
  {
   "cell_type": "code",
   "execution_count": 7,
   "metadata": {},
   "outputs": [],
   "source": [
    "# creating csv\n",
    "headers = ['Product Title', 'Price', 'Ratings', 'Stars','url','date']\n",
    "data = [title,price,ratings,stars,url,date]\n",
    "with open('Tracker.csv','w', newline='',encoding='utf-8') as f:\n",
    "    writer = csv.writer(f)\n",
    "    writer.writerow(headers)\n",
    "    writer.writerow(data)\n",
    "    "
   ]
  },
  {
   "cell_type": "code",
   "execution_count": 9,
   "metadata": {},
   "outputs": [],
   "source": [
    "# adding more rows\n",
    "with open('Tracker.csv','a+', newline='',encoding='utf-8') as f:\n",
    "    writer = csv.writer(f)\n",
    "    writer.writerow(data)"
   ]
  },
  {
   "cell_type": "code",
   "execution_count": 10,
   "metadata": {},
   "outputs": [
    {
     "data": {
      "text/html": [
       "<div>\n",
       "<style scoped>\n",
       "    .dataframe tbody tr th:only-of-type {\n",
       "        vertical-align: middle;\n",
       "    }\n",
       "\n",
       "    .dataframe tbody tr th {\n",
       "        vertical-align: top;\n",
       "    }\n",
       "\n",
       "    .dataframe thead th {\n",
       "        text-align: right;\n",
       "    }\n",
       "</style>\n",
       "<table border=\"1\" class=\"dataframe\">\n",
       "  <thead>\n",
       "    <tr style=\"text-align: right;\">\n",
       "      <th></th>\n",
       "      <th>Product Title</th>\n",
       "      <th>Price</th>\n",
       "      <th>Ratings</th>\n",
       "      <th>Stars</th>\n",
       "      <th>url</th>\n",
       "      <th>date</th>\n",
       "    </tr>\n",
       "  </thead>\n",
       "  <tbody>\n",
       "    <tr>\n",
       "      <th>0</th>\n",
       "      <td>VEGA 3 in 1 Hair Styler, Straightener, Curler ...</td>\n",
       "      <td>1,199.00</td>\n",
       "      <td>15,699 ratings</td>\n",
       "      <td>3.9 out of 5</td>\n",
       "      <td>https://www.amazon.in/dp/B071J3YJ73</td>\n",
       "      <td>Mon Nov  1 19:42:12 2021</td>\n",
       "    </tr>\n",
       "    <tr>\n",
       "      <th>1</th>\n",
       "      <td>VEGA 3 in 1 Hair Styler, Straightener, Curler ...</td>\n",
       "      <td>1,199.00</td>\n",
       "      <td>15,699 ratings</td>\n",
       "      <td>3.9 out of 5</td>\n",
       "      <td>https://www.amazon.in/dp/B071J3YJ73</td>\n",
       "      <td>Mon Nov  1 19:42:12 2021</td>\n",
       "    </tr>\n",
       "  </tbody>\n",
       "</table>\n",
       "</div>"
      ],
      "text/plain": [
       "                                       Product Title     Price  \\\n",
       "0  VEGA 3 in 1 Hair Styler, Straightener, Curler ...  1,199.00   \n",
       "1  VEGA 3 in 1 Hair Styler, Straightener, Curler ...  1,199.00   \n",
       "\n",
       "          Ratings         Stars                                  url  \\\n",
       "0  15,699 ratings  3.9 out of 5  https://www.amazon.in/dp/B071J3YJ73   \n",
       "1  15,699 ratings  3.9 out of 5  https://www.amazon.in/dp/B071J3YJ73   \n",
       "\n",
       "                       date  \n",
       "0  Mon Nov  1 19:42:12 2021  \n",
       "1  Mon Nov  1 19:42:12 2021  "
      ]
     },
     "execution_count": 10,
     "metadata": {},
     "output_type": "execute_result"
    }
   ],
   "source": [
    "# Reading csv\n",
    "df = pd.read_csv('Tracker.csv')\n",
    "df"
   ]
  }
 ],
 "metadata": {
  "interpreter": {
   "hash": "79faefa95ae3d432403a6531e297e21b6e76eced35e7f3b21c0cd3cbd62791f3"
  },
  "kernelspec": {
   "display_name": "Python 3.9.7 64-bit ('minimal_ds': conda)",
   "name": "python3"
  },
  "language_info": {
   "codemirror_mode": {
    "name": "ipython",
    "version": 3
   },
   "file_extension": ".py",
   "mimetype": "text/x-python",
   "name": "python",
   "nbconvert_exporter": "python",
   "pygments_lexer": "ipython3",
   "version": "3.9.7"
  },
  "orig_nbformat": 4
 },
 "nbformat": 4,
 "nbformat_minor": 2
}
